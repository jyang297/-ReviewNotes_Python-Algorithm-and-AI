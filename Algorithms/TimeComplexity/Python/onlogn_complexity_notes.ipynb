{
 "cells": [
  {
   "cell_type": "markdown",
   "id": "bbae960d",
   "metadata": {},
   "source": [
    "\n",
    "# 📘 Understanding `O(n log n)` Time Complexity\n",
    "\n",
    "## 📌 Introduction\n",
    "`O(n log n)` is a common time complexity, especially in algorithms involving **divide-and-conquer** strategies or **logarithmic operations**. It represents a balance between performance and scalability, often appearing in sorting, searching, and graph algorithms.\n"
   ]
  },
  {
   "cell_type": "markdown",
   "id": "89d6c652",
   "metadata": {},
   "source": [
    "### 🌀 Merge Sort (`O(n log n)`)"
   ]
  },
  {
   "cell_type": "code",
   "execution_count": null,
   "id": "40e10b75",
   "metadata": {},
   "outputs": [],
   "source": [
    "\n",
    "def merge_sort(arr):\n",
    "    if len(arr) <= 1:\n",
    "        return arr\n",
    "    \n",
    "    mid = len(arr) // 2\n",
    "    left = merge_sort(arr[:mid])\n",
    "    right = merge_sort(arr[mid:])\n",
    "    \n",
    "    return merge(left, right)\n",
    "\n",
    "def merge(left, right):\n",
    "    result = []\n",
    "    i = j = 0\n",
    "    \n",
    "    while i < len(left) and j < len(right):\n",
    "        if left[i] < right[j]:\n",
    "            result.append(left[i])\n",
    "            i += 1\n",
    "        else:\n",
    "            result.append(right[j])\n",
    "            j += 1\n",
    "    \n",
    "    result.extend(left[i:])\n",
    "    result.extend(right[j:])\n",
    "    return result\n",
    "\n",
    "# Example\n",
    "arr = [38, 27, 43, 3, 9, 82, 10]\n",
    "print(\"Merge Sort Result:\", merge_sort(arr))\n"
   ]
  },
  {
   "cell_type": "markdown",
   "id": "9ac56ec6",
   "metadata": {},
   "source": [
    "### ⚡ Quick Sort (Average Case: `O(n log n)`)"
   ]
  },
  {
   "cell_type": "code",
   "execution_count": 1,
   "id": "1cd0dcab",
   "metadata": {},
   "outputs": [
    {
     "name": "stdout",
     "output_type": "stream",
     "text": [
      "Quick Sort Result: [3, 9, 10, 27, 38, 43, 82]\n"
     ]
    }
   ],
   "source": [
    "\n",
    "def quick_sort(arr):\n",
    "    if len(arr) <= 1:\n",
    "        return arr\n",
    "    \n",
    "    pivot = arr[len(arr) // 2]\n",
    "    left = [x for x in arr if x < pivot]\n",
    "    middle = [x for x in arr if x == pivot]\n",
    "    right = [x for x in arr if x > pivot]\n",
    "    \n",
    "    return quick_sort(left) + middle + quick_sort(right)\n",
    "\n",
    "# Example\n",
    "arr = [38, 27, 43, 3, 9, 82, 10]\n",
    "print(\"Quick Sort Result:\", quick_sort(arr))\n"
   ]
  },
  {
   "cell_type": "markdown",
   "id": "b6d7d100",
   "metadata": {},
   "source": [
    "### 🛎️ Heap Sort (`O(n log n)`)"
   ]
  },
  {
   "cell_type": "code",
   "execution_count": null,
   "id": "902dc965",
   "metadata": {},
   "outputs": [],
   "source": [
    "\n",
    "import heapq\n",
    "\n",
    "def heap_sort(arr):\n",
    "    heapq.heapify(arr)  # O(n)\n",
    "    return [heapq.heappop(arr) for _ in range(len(arr))]  # O(n log n)\n",
    "\n",
    "# Example\n",
    "arr = [38, 27, 43, 3, 9, 82, 10]\n",
    "print(\"Heap Sort Result:\", heap_sort(arr))\n"
   ]
  },
  {
   "cell_type": "markdown",
   "id": "dbbc6875",
   "metadata": {},
   "source": [
    "### 💥 Fast Exponentiation (Binary Exponentiation)"
   ]
  },
  {
   "cell_type": "code",
   "execution_count": null,
   "id": "95fe2de9",
   "metadata": {},
   "outputs": [],
   "source": [
    "\n",
    "def fast_power(base, exp):\n",
    "    if exp == 0:\n",
    "        return 1\n",
    "    half = fast_power(base, exp // 2)\n",
    "    return half * half if exp % 2 == 0 else half * half * base\n",
    "\n",
    "# Example\n",
    "print(\"Fast Exponentiation Result:\", fast_power(2, 10))\n"
   ]
  },
  {
   "cell_type": "markdown",
   "id": "ddb1a45b",
   "metadata": {},
   "source": [
    "\n",
    "## 📝 Summary Table of `O(n log n)` Algorithms\n",
    "\n",
    "| **Category**                | **Algorithm**                        | **Reason**                      |\n",
    "|----------------------------|-------------------------------------|----------------------------------|\n",
    "| 📊 **Sorting**              | Merge Sort, Quick Sort, Heap Sort  | Divide-and-conquer or heap-based|\n",
    "| 🌲 **Tree-based**           | Balanced BST, Multiple Searches    | Each tree operation is `O(log n)` |\n",
    "| 🗺️ **Graph Algorithms**     | Kruskal, Dijkstra                 | Priority queues or sorting edges|\n",
    "| 🧮 **Numerical Algorithms**  | Fast Exponentiation, Strassen’s Multiplication | Divide-and-conquer structure    |\n"
   ]
  }
 ],
 "metadata": {
  "kernelspec": {
   "display_name": ".venv",
   "language": "python",
   "name": "python3"
  },
  "language_info": {
   "codemirror_mode": {
    "name": "ipython",
    "version": 3
   },
   "file_extension": ".py",
   "mimetype": "text/x-python",
   "name": "python",
   "nbconvert_exporter": "python",
   "pygments_lexer": "ipython3",
   "version": "3.10.12"
  }
 },
 "nbformat": 4,
 "nbformat_minor": 5
}
